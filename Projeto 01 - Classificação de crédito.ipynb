{
  "metadata": {
    "kernelspec": {
      "name": "python",
      "display_name": "Python (Pyodide)",
      "language": "python"
    },
    "language_info": {
      "codemirror_mode": {
        "name": "python",
        "version": 3
      },
      "file_extension": ".py",
      "mimetype": "text/x-python",
      "name": "python",
      "nbconvert_exporter": "python",
      "pygments_lexer": "ipython3",
      "version": "3.8"
    }
  },
  "nbformat_minor": 4,
  "nbformat": 4,
  "cells": [
    {
      "cell_type": "markdown",
      "source": "# <span style=\"color:blue\"> Projeto 01 - Concessão de cartões de crédito </span>\n<span style=\"color:blue\"> Este notebook é semelhante ao visto em vídeo, mas contém células azuis como esta, que trazem instruções para a sua atividade.</span>\n\n<span style=\"color:blue\">Após realizar as tarefas indicadas, você vai fazer o upload do seu arquivo no GitHub e enviar o link para a EBAC, ou alternativamente, fazer o upload do arquivo na plataforma da EBAC. Recomendamos o github, pois assim você já vai montando o seu portfólio.</span>",
      "metadata": {
        "trusted": true
      }
    },
    {
      "cell_type": "markdown",
      "source": "## Etapa 1 CRISP - DM: Entendimento do negócio\n\nComo primeira etapa do CRISP-DM, vamos entender do que se trata o negócio, e quais os objetivos. \n\nEste é um problema de concessão de cartões de crédito, publicado no [Kaggle](https://www.kaggle.com/), uma plataforma que promove desafios de ciência de dados, oferecendo prêmios em dinheiro para os melhores colocados. O link original está [aqui](https://www.kaggle.com/rikdifos/credit-card-approval-prediction).  \n  \nEssa é uma base de proponentes de cartão de crédito, nosso objetivo é construir um modelo preditivo para identificar o risco de inadimplência (tipicamente definida pela ocorrência de um atraso maior ou igual a 90 em um horizonte de 12 meses) através de variáveis que podem ser observadas na data da avaliação do crédito (tipicamente quando o cliente solicita o cartão).\n\nAtividades do CRISP-DM:\n\n- Objetivos do negócio\nNote que o objetivo aqui é que o modelo sirva o mutuário (o cliente) para que avalie suas próprias decisões, e não a instituição de crédito.\n- Objetivos da modelagem\nO objetivo está bem definido: desenvolver o melhor modelo preditivo de modo a auxiliar o mutuário a tomar suas próprias decisões referentes a crédito.\n  \nNessa etapa também se avalia a situação da empresa/segmento/assunto de modo a se entender o tamanho do público, relevância, problemas presentes e todos os detalhes do processo gerador do fenômeno em questão, e portanto dos dados.\n\nTambém é nessa etapa que se constrói um planejamento do projeto.",
      "metadata": {
        "trusted": true
      }
    },
    {
      "cell_type": "markdown",
      "source": "## Etapa 2 Crisp-DM: Entendimento dos dados\nA segunda etapa é o entendimento dos dados. Foram fornecidas 15 variáveis mais a variável resposta (em negrito na tabela). O significado de cada uma dessas variáveis se encontra na tabela.\n\n#### Dicionário de dados\n\nOs dados estão dispostos em uma tabela com uma linha para cada cliente, e uma coluna para cada variável armazenando as características desses clientes. Colocamos uma cópia o dicionário de dados (explicação dessas variáveis) abaixo neste notebook:\n\n| Variable Name            | Description                                         | Tipo  |\n| ------------------------ |:---------------------------------------------------:| -----:|\n| sexo| M = 'Masculino'; F = 'Feminino' |M/F|\n| posse_de_veiculo| Y = 'possui'; N = 'não possui' |Y/N|\n| posse_de_imovel| Y = 'possui'; N = 'não possui' |Y/N|\n| qtd_filhos| Quantidade de filhos |inteiro|\n| tipo_renda|Tipo de renda (ex: assaliariado, autônomo etc) | texto |\n| educacao| Nível de educação (ex: secundário, superior etc) |texto|\n| estado_civil | Estado civil (ex: solteiro, casado etc)| texto |\n| tipo_residencia | tipo de residência (ex: casa/apartamento, com os pais etc) | texto |\n| idade | idade em anos |inteiro|\n| tempo de emprego | tempo de emprego em anos |inteiro|\n| possui_celular | Indica se possui celular (1 = sim, 0 = não) |binária|\n| possui_fone_comercial | Indica se possui telefone comercial (1 = sim, 0 = não) |binária|\n| possui_fone | Indica se possui telefone (1 = sim, 0 = não) |binária|\n| possui_email | Indica se possui e-mail (1 = sim, 0 = não) |binária|\n| qt_pessoas_residencia | quantidade de pessoas na residência |inteiro|\n| **mau** | indicadora de mau pagador (True = mau, False = bom) |binária|\n\n\n\n",
      "metadata": {
        "trusted": true
      }
    },
    {
      "cell_type": "markdown",
      "source": "#### Carregando os pacotes\nÉ considerado uma boa prática carregar os pacotes que serão utilizados como a primeira coisa do programa.",
      "metadata": {
        "trusted": true
      }
    },
    {
      "cell_type": "code",
      "source": "import pandas as pd\n\nimport seaborn as sns\nimport matplotlib.pyplot as plt\n\nfrom sklearn.model_selection import train_test_split\nfrom sklearn import metrics\nfrom sklearn.ensemble import RandomForestClassifier",
      "metadata": {
        "trusted": true
      },
      "execution_count": null,
      "outputs": []
    },
    {
      "cell_type": "markdown",
      "source": "#### Carregando os dados\nO comando pd.read_csv é um comando da biblioteca pandas (pd.) e carrega os dados do arquivo csv indicado para um objeto *dataframe* do pandas.",
      "metadata": {
        "trusted": true
      }
    },
    {
      "cell_type": "code",
      "source": "# Observe que demo01.csv está na mesma pasta que este notebook\n# do contrário, seria necessário indicar a pasta no nome do arquivo\ndf = pd.read_csv('demo01.csv')\nprint (\"Número de linhas e colunas da tabela: {}\".format(df.shape))\n\ndf.head()",
      "metadata": {
        "trusted": true
      },
      "execution_count": null,
      "outputs": []
    },
    {
      "cell_type": "markdown",
      "source": "#### Entendimento dos dados - Univariada\nNesta etapa tipicamente avaliamos a distribuição de todas as variáveis. Nesta demonstração vamos ver a variável resposta e dois exemplos de univariada apenas. Mas sinta-se à vontade para tentar observar outras variáveis.",
      "metadata": {
        "trusted": true
      }
    },
    {
      "cell_type": "code",
      "source": "print(df['mau'].value_counts())\nprint(\"\\nTaxa de inadimplentes:\")\nprint(df['mau'].mean())",
      "metadata": {
        "trusted": true
      },
      "execution_count": null,
      "outputs": []
    },
    {
      "cell_type": "code",
      "source": "var = 'mau'\ngrafico_barras = df[var].value_counts().plot.bar()",
      "metadata": {
        "trusted": true
      },
      "execution_count": null,
      "outputs": []
    },
    {
      "cell_type": "code",
      "source": "var = 'possui_celular'\ngrafico_barras = df[var].value_counts().plot.bar()",
      "metadata": {
        "trusted": true
      },
      "execution_count": null,
      "outputs": []
    },
    {
      "cell_type": "code",
      "source": "var = 'posse_de_veiculo'\ngrafico_barras = df[var].value_counts().plot.bar()",
      "metadata": {
        "trusted": true
      },
      "execution_count": null,
      "outputs": []
    },
    {
      "cell_type": "markdown",
      "source": "### <span style=\"color:blue\">Tarefa 01 - gráfico de barras</span>\n<span style=\"color:blue\"> Com base no código da célula anterior, construa um gráfico de barras para pelo menos duas outras variáveis. \n**Dica:** Não tente usar as variáveis ```tempo_emprego``` e ```idade``` pois o gráfico de barras dessa forma como construímos não é adequado para elas. </span>",
      "metadata": {
        "trusted": true
      }
    },
    {
      "cell_type": "code",
      "source": "plt.clf()\nvar = \"idade\"\n\nsns.displot(df, x = var, bins = 50)\nplt.show()",
      "metadata": {
        "trusted": true
      },
      "execution_count": null,
      "outputs": []
    },
    {
      "cell_type": "code",
      "source": "# Alterando valores de -1000 pra -2, para visualizar melhor no gráfico\nvar = \"idade\"\ndf.loc[df[var]<0,var] = -2",
      "metadata": {
        "trusted": true
      },
      "execution_count": null,
      "outputs": []
    },
    {
      "cell_type": "code",
      "source": "plt.clf()\nvar = \"idade\"\n\nsns.displot(df, x = var, bins = 50)\nplt.show()",
      "metadata": {
        "trusted": true
      },
      "execution_count": null,
      "outputs": []
    },
    {
      "cell_type": "markdown",
      "source": "### <span style=\"color:blue\">Tarefa 02 - Histograma </span>\n<span style=\"color:blue\"> Com base no código da célula anterior, construa o histograma da variavel ```dade```.  </span>\n",
      "metadata": {
        "trusted": true
      }
    },
    {
      "cell_type": "markdown",
      "source": "### Entendimento dos dados - Bivariadas\n\nEntender a alteração da inadimplência indicada pela variável resposta (```AtrasoRelevante2anos```) e as variáveis explicativas (demais). Para isto, vamos calcular a taxa de inadimplentes (qtd inadimplentes / total) para diferentes grupos definidos pelas variáveis explicativas.\n",
      "metadata": {
        "trusted": true
      }
    },
    {
      "cell_type": "code",
      "source": "var = 'idade'\ncat_srs, bins = pd.qcut(df[var], 4, retbins=True)\ng = df.groupby(cat_srs)\nbiv = g['mau'].mean()\n\nax = biv.plot.line()\nax.set_ylabel(\"Proporção de inadimplentes\")\nticks = plt.xticks(range(len(biv.index.values)), biv.index.values, rotation = 90)",
      "metadata": {
        "trusted": true
      },
      "execution_count": null,
      "outputs": []
    },
    {
      "cell_type": "code",
      "source": "### <span style=\"color:blue\">Tarefa 03 - Bivariada </span>\n<span style=\"color:blue\"> Com base no código da célula anterior, construa uma análise bivariada para a variável  ```tempo_emprego```.  Em seguida, insira uma célula de markdown e conclua se a variável parece discriminar risco de crédito. </span>\n\n",
      "metadata": {
        "trusted": true
      },
      "execution_count": null,
      "outputs": []
    },
    {
      "cell_type": "code",
      "source": "var = 'tempo_emprego'\ncat_srs, bins = pd.qcut(df[var], 4, retbins=True)\ng = df.groupby(cat_srs)\nbiv = g['mau'].mean()\n\nax = biv.plot.line()\nax.set_ylabel(\"Proporção de inadimplentes\")\nticks = plt.xticks(range(len(biv.index.values)), biv.index.values, rotation = 90)",
      "metadata": {
        "trusted": true
      },
      "execution_count": null,
      "outputs": []
    },
    {
      "cell_type": "markdown",
      "source": "Conseguimos ver, que a proporção de inadimplentes, é maior para quem esta á menos de 4 anos no emprego, pessoas que estão a mais de 5, raramente tornam-se inadimplentes.",
      "metadata": {
        "trusted": true
      }
    },
    {
      "cell_type": "markdown",
      "source": "## Etapa 3 Crisp-DM: Preparação dos dados\nNessa etapa realizamos tipicamente as seguintes operações com os dados:\n- seleção\nNeste caso, os dados já estão pré-selecionados\n- limpeza\nPrecisaremos identificar e tratar dados faltantes\n- construção\nNeste primeiro exercício não faremos construção de novas variáveis\n- integração\nTemos apenas uma fonte de dados, não é necessário agregação\n- formatação\nOs dados já se encontram em formatos úteis\n\nOs dados já estão pré-selecionados, construídos e integrados, mas há dados faltantes que serão eliminados na próxima célula",
      "metadata": {
        "trusted": true
      }
    },
    {
      "cell_type": "code",
      "source": "metadata = pd.DataFrame(df.dtypes, columns = ['tipo'])\n\nmetadata['n_categorias'] = 0\n\nfor var in metadata.index:\n    metadata.loc[var,'n_categorias'] = len(df.groupby([var]).size())\n    \nmetadata",
      "metadata": {
        "trusted": true
      },
      "execution_count": null,
      "outputs": []
    },
    {
      "cell_type": "code",
      "source": "def convert_dummy(df, feature,rank=0):\n    pos = pd.get_dummies(df[feature], prefix=feature)\n    mode = df[feature].value_counts().index[rank]\n    biggest = feature + '_' + str(mode)\n    pos.drop([biggest],axis=1,inplace=True)\n    df.drop([feature],axis=1,inplace=True)\n    df=df.join(pos)\n    return df",
      "metadata": {
        "trusted": true
      },
      "execution_count": null,
      "outputs": []
    },
    {
      "cell_type": "code",
      "source": "for var in metadata[metadata['tipo'] == 'object'].index:\n    df = convert_dummy(df, var)",
      "metadata": {
        "trusted": true
      },
      "execution_count": null,
      "outputs": []
    },
    {
      "cell_type": "code",
      "source": "df",
      "metadata": {
        "trusted": true
      },
      "execution_count": null,
      "outputs": []
    },
    {
      "cell_type": "markdown",
      "source": "## Etapa 4 Crisp-DM: Modelagem\nNessa etapa que realizaremos a construção do modelo. Os passos típicos são:\n- Selecionar a técnica de modelagem\nUtilizaremos a técnica de floresta aleatória (**random forest**), pois é uma técnica bastante versátil e robusta que captura bem padrões complexos nos dados, relativamente fácil de se usar e que costuma produzir excelentes resultados para uma classificação como estas. Vamos ver esse algoritmo em detalhes mais adiante no curso, mas pense nele por enquanto como uma regra complexa baseada nas variáveis explicativas que classifica o indivíduo como inadimplente ou não. Mais adiante no curso vamos extrair mais dessa técnica.\n- Desenho do teste\nAntes de rodar o modelo precisamos construir um desenho do teste que será realizado. Para desenvolver um modelo como este, é considerado uma boa prática dividir a base em duas, uma chamada ```treinamento```, onde o algoritmo 'aprende', e outra chamada ```teste```, onde o algoritmo é avaliado. Essa prática fornece uma métrica de avaliação mais fidedigna do algoritmo, falaremos mais detalhes em lições futuras.\n- Avaliação do modelo\nFaremos a avaliação do nosso modelo através do percentual de acerto, avaliando a classificação do modelo (inadimplente e não inadimplente) e comparando com o estado real armazenado na variável resposta (```AtrasoRelevante2anos```). Esse percentual de acerto é frequentemente chamado de acurácia (**obs:** nunca usar assertividade... a**ss**ertivo não é aquele que a**c**erta, e sim \"*adj.: em que o locutor declara algo, positivo ou negativo, do qual assume inteiramente a validade; declarativo*.\" a**C**ertivo está errado ;)\n#### Dividindo a base em treino e teste\n\n",
      "metadata": {
        "trusted": true
      }
    },
    {
      "cell_type": "code",
      "source": "# Tirando a v. resposta da base de treinamento\nx = df.drop(\"mau\",axis = 1)\ny = df[\"mau\"]\n\n# Tirando ID da base de treinamento e teste\nx_train, x_test, y_train, y_test = train_test_split(x, y)",
      "metadata": {
        "trusted": true
      },
      "execution_count": null,
      "outputs": []
    },
    {
      "cell_type": "code",
      "source": "x_train",
      "metadata": {
        "trusted": true
      },
      "execution_count": null,
      "outputs": []
    },
    {
      "cell_type": "markdown",
      "source": "### Rodando o modelo\nA função RandomForestClassifier gera a estrutura da floresta aleatória, e o parâmetro ```n_estimator``` define o número de árvores na floresta. Normalmente a acurácia do modelo tende a aumentar com o número de árvores, pelo menos até um certo limite - e aumenta também o recurso computacional demandado. Você pode alterar esse parâmetro e verificar se a acurácia do seu modelo melhora - não recomendamos valores muito altos. Vá alterando aos poucos e percebendo como o tempo aumenta com os seus recursos. Não é necessário ir muito além de umas 100 árvores.",
      "metadata": {
        "trusted": true
      }
    },
    {
      "cell_type": "code",
      "source": "# Treinar uma Random Forest com 5 árvores\n\nclf = RandomForestClassifier(n_estimators=3)\nclf.fit(x_train,y_train)",
      "metadata": {
        "trusted": true
      },
      "execution_count": null,
      "outputs": []
    },
    {
      "cell_type": "code",
      "source": "# Calculando a acuracia\n\ny_pred = clf.predict(x_test)\nacc = metrics.accuracy_score(y_test, y_pred)\nprint('Acurácia: {0:.2f}%'.format(acc*100))",
      "metadata": {
        "trusted": true
      },
      "execution_count": null,
      "outputs": []
    },
    {
      "cell_type": "code",
      "source": "# Matriz de confusão\n\ntab = pd.crosstab(index = y_pred, columns = y_test)\nprint(tab[1][0]/(tab[1][0] + tab[0][0]))\nprint(tab[1][1]/(tab[1][1] + tab[0][1]))\ntab",
      "metadata": {
        "trusted": true
      },
      "execution_count": null,
      "outputs": []
    },
    {
      "cell_type": "markdown",
      "source": "### <span style=\"color:blue\">Tarefa 04 - Bivariada </span>\n<span style=\"color:blue\"> Para essa tarefa, crie três células extras, copie nelas o código das três células anteriores (na mesma ordem) e altere o parâmetro ```n_estimators=``` da função ```RandomForestClassifier``` e insira uma quantidade maior que 3 nesse parâmetro. Rode as três células anteriores para calcular a acurácia do modelo e veja se você consegue uma acurácia melhor. </span>",
      "metadata": {
        "trusted": true
      }
    },
    {
      "cell_type": "code",
      "source": "# Treinar uma Random Forest com 5 árvores\n\nclf = RandomForestClassifier(n_estimators=11)\nclf.fit(x_train,y_train)",
      "metadata": {
        "trusted": true
      },
      "execution_count": null,
      "outputs": []
    },
    {
      "cell_type": "code",
      "source": "# Calculando a acuracia\n\ny_pred = clf.predict(x_test)\nacc = metrics.accuracy_score(y_test, y_pred)\nprint('Acurácia: {0:.2f}%'.format(acc*100))",
      "metadata": {
        "trusted": true
      },
      "execution_count": null,
      "outputs": []
    },
    {
      "cell_type": "code",
      "source": "# Matriz de confusão\n\ntab = pd.crosstab(index = y_pred, columns = y_test)\nprint(tab[1][0]/(tab[1][0] + tab[0][0]))\nprint(tab[1][1]/(tab[1][1] + tab[0][1]))\ntab",
      "metadata": {
        "trusted": true
      },
      "execution_count": null,
      "outputs": []
    },
    {
      "cell_type": "markdown",
      "source": "## Etapa 5 Crisp-DM: Avaliação dos resultados\nA etapa final do CRISP. Neste casp, a nossa avaliação termina com a acurácia. Mas em problemas futuros aprofundaremos mais - a ideia seria avaliar o impacto do uso do modelo no negócio, ou seja, o quanto o resultado financeiro melhora em detrimento da utilização do modelo.\n\nComo um exemplo simples, considere que um cliente bom pagador deixa (em média) 5 '*dinheiros*' de lucro, e um mau pagador deixa (em média) 100 '*dinheiros*' de prejuízo.\n\nde acordo com a matriz de confusão:\n\n| Decisão   | lucro dos bons    | lucro dos maus | total  |\n| --------- |:-----------------:|:--------------:| ------:|\n| Aprovador | 4042 x 5          | 72 x (-100)    | 13.010 |\n| Reprovar  |  27 x 5           | 22 x (-100)    | -2.065 |\n\nEstariamos evitando, portanto, um prejuízo de -2.145 '*dinheiros*' - o que na prática significa um aumento no lucro.\n",
      "metadata": {
        "trusted": true
      }
    },
    {
      "cell_type": "markdown",
      "source": "## Etapa 6 Crisp-DM: Implantação\nNessa etapa colocamos em uso o modelo desenvolvido, normalmente implementando o modelo desenvolvido em um motor de crédito que toma as decisões com algum nível de automação - tipicamente aprovando automaticamente clientes muito bons, negando automaticamente clientes muito ruins, e enviando os intermediários para análise manual.",
      "metadata": {
        "trusted": true
      }
    },
    {
      "cell_type": "code",
      "source": "",
      "metadata": {},
      "execution_count": null,
      "outputs": []
    }
  ]
}